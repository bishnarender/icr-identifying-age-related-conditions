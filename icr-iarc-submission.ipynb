{
 "cells": [
  {
   "cell_type": "code",
   "execution_count": 1,
   "id": "e5db9a7f",
   "metadata": {
    "_cell_guid": "b1076dfc-b9ad-4769-8c92-a6c4dae69d19",
    "_uuid": "8f2839f25d086af736a60e9eeb907d3b93b6e0e5",
    "execution": {
     "iopub.execute_input": "2023-10-06T03:44:04.145272Z",
     "iopub.status.busy": "2023-10-06T03:44:04.144900Z",
     "iopub.status.idle": "2023-10-06T03:44:13.942664Z",
     "shell.execute_reply": "2023-10-06T03:44:13.941606Z"
    },
    "papermill": {
     "duration": 9.805425,
     "end_time": "2023-10-06T03:44:13.945421",
     "exception": false,
     "start_time": "2023-10-06T03:44:04.139996",
     "status": "completed"
    },
    "tags": []
   },
   "outputs": [
    {
     "name": "stderr",
     "output_type": "stream",
     "text": [
      "/opt/conda/lib/python3.10/site-packages/scipy/__init__.py:146: UserWarning: A NumPy version >=1.16.5 and <1.23.0 is required for this version of SciPy (detected version 1.23.5\n",
      "  warnings.warn(f\"A NumPy version >={np_minversion} and <{np_maxversion}\"\n"
     ]
    }
   ],
   "source": [
    "import pandas as pd\n",
    "import numpy as np\n",
    "import os\n",
    "\n",
    "from sklearn.model_selection import StratifiedKFold, train_test_split\n",
    "\n",
    "import tensorflow as tf\n",
    "from tensorflow.keras.utils import Sequence\n",
    "from tensorflow.keras.callbacks import EarlyStopping, ReduceLROnPlateau, Callback\n",
    "from tensorflow.keras import regularizers as R\n",
    "from tensorflow.keras.models import Model, load_model, Sequential\n",
    "from tensorflow.keras import layers as L\n",
    "from tensorflow.keras import optimizers as O\n",
    "from tensorflow.keras import backend as K\n",
    "from tensorflow.keras.losses import binary_crossentropy\n",
    "tf.keras.utils.set_random_seed(722)"
   ]
  },
  {
   "cell_type": "code",
   "execution_count": 2,
   "id": "495ef8bc",
   "metadata": {
    "execution": {
     "iopub.execute_input": "2023-10-06T03:44:13.952589Z",
     "iopub.status.busy": "2023-10-06T03:44:13.951993Z",
     "iopub.status.idle": "2023-10-06T03:44:14.048839Z",
     "shell.execute_reply": "2023-10-06T03:44:14.047505Z"
    },
    "papermill": {
     "duration": 0.102827,
     "end_time": "2023-10-06T03:44:14.051345",
     "exception": false,
     "start_time": "2023-10-06T03:44:13.948518",
     "status": "completed"
    },
    "tags": []
   },
   "outputs": [],
   "source": [
    "train_df = pd.read_csv('/kaggle/input/icr-identify-age-related-conditions/train.csv', index_col='Id')\n",
    "test_df = pd.read_csv('/kaggle/input/icr-identify-age-related-conditions/test.csv', index_col='Id')\n",
    "\n",
    "train_df['EJ'] = train_df['EJ'].replace({'A': 0, 'B': 1})\n",
    "test_df['EJ'] = test_df['EJ'].replace({'A': 0, 'B': 1})\n",
    "\n",
    "nan_fill = train_df.isna().any()\n",
    "nan_fill *= train_df.min() - train_df.max()\n",
    "nan_fill[nan_fill == 0] = train_df.median()\n",
    "train_df = train_df.fillna(nan_fill)\n",
    "test_df = test_df.fillna(nan_fill)"
   ]
  },
  {
   "cell_type": "code",
   "execution_count": 3,
   "id": "84702db1",
   "metadata": {
    "execution": {
     "iopub.execute_input": "2023-10-06T03:44:14.059998Z",
     "iopub.status.busy": "2023-10-06T03:44:14.058351Z",
     "iopub.status.idle": "2023-10-06T03:44:14.065140Z",
     "shell.execute_reply": "2023-10-06T03:44:14.064134Z"
    },
    "papermill": {
     "duration": 0.012828,
     "end_time": "2023-10-06T03:44:14.067252",
     "exception": false,
     "start_time": "2023-10-06T03:44:14.054424",
     "status": "completed"
    },
    "tags": []
   },
   "outputs": [],
   "source": [
    "X_test = test_df.values"
   ]
  },
  {
   "cell_type": "code",
   "execution_count": 4,
   "id": "91671aba",
   "metadata": {
    "execution": {
     "iopub.execute_input": "2023-10-06T03:44:14.074310Z",
     "iopub.status.busy": "2023-10-06T03:44:14.074022Z",
     "iopub.status.idle": "2023-10-06T03:44:14.099578Z",
     "shell.execute_reply": "2023-10-06T03:44:14.098584Z"
    },
    "papermill": {
     "duration": 0.031396,
     "end_time": "2023-10-06T03:44:14.101558",
     "exception": false,
     "start_time": "2023-10-06T03:44:14.070162",
     "status": "completed"
    },
    "tags": []
   },
   "outputs": [],
   "source": [
    "# @tf.keras.utils.register_keras_serializable() => registers an object with the Keras serialization framework.\n",
    "#        This allows you to use custom layer/class/function in your Keras models and ensure that it can be -\n",
    "#        - serialized and deserialized correctly when saving and loading models.\n",
    "#        This decorator injects the decorated class or function into the Keras custom object dictionary, so that -\n",
    "#        - it can be serialized and deserialized without needing an entry in the user-provided custom object dict.\n",
    "\n",
    "\n",
    "@tf.keras.utils.register_keras_serializable()\n",
    "def smish(x):\n",
    "    # smish(x)=x⋅tanh(ln(1+σ(x)))\n",
    "    return x * K.tanh(K.log(1 + K.sigmoid(x)))\n",
    "\n",
    "\n",
    "@tf.keras.utils.register_keras_serializable()\n",
    "class GatedLinearUnit(Model): # L.Layer # Model my_\n",
    "    def __init__(self, units, **kwargs):\n",
    "        super().__init__(**kwargs)\n",
    "        self.linear = L.Dense(units)\n",
    "        self.sigmoid = L.Dense(units, activation=\"sigmoid\")\n",
    "        self.units = units\n",
    "\n",
    "    def get_config(self):\n",
    "        config = super().get_config()\n",
    "        config['units'] = self.units\n",
    "        return config\n",
    "    \n",
    "    def call(self, inputs):\n",
    "        return self.linear(inputs) * self.sigmoid(inputs)\n",
    "\n",
    "    def model(self):\n",
    "        # input_shape=(not include batch size).\n",
    "        x = tf.keras.Input(shape=(self.units), batch_size=batch_size)\n",
    "        return tf.keras.Model(inputs=x, outputs=self.call(x)) \n",
    "    \n",
    "\n",
    "@tf.keras.utils.register_keras_serializable()\n",
    "class GatedResidualNetwork(Model): # L.Layer # Model my_\n",
    "    def __init__(self, units, dropout_rate, num_features, concat, **kwargs):\n",
    "        super().__init__(**kwargs)\n",
    "        self.units = units\n",
    "        self.dropout_rate = dropout_rate\n",
    "        self.relu_dense = L.Dense(units, activation=smish)\n",
    "        self.linear_dense = L.Dense(units)\n",
    "        self.dropout = L.Dropout(dropout_rate)\n",
    "        self.gated_linear_unit = GatedLinearUnit(units)\n",
    "        self.layer_norm = L.LayerNormalization()\n",
    "        self.project = L.Dense(units)\n",
    "        self.num_features = num_features\n",
    "        self.concat = concat\n",
    "\n",
    "    def get_config(self):\n",
    "        config = super().get_config()\n",
    "        config['units'] = self.units\n",
    "        config['dropout_rate'] = self.dropout_rate\n",
    "        return config\n",
    "    \n",
    "    def call(self, inputs):\n",
    "        x = self.relu_dense(inputs)\n",
    "        x = self.linear_dense(x)\n",
    "        x = self.dropout(x)\n",
    "        if inputs.shape[-1] != self.units:\n",
    "            inputs = self.project(inputs)\n",
    "        x = inputs + self.gated_linear_unit(x)\n",
    "        x = self.layer_norm(x)\n",
    "        return x\n",
    "\n",
    "    def model(self):\n",
    "        # input_shape=(not include batch size).\n",
    "        if (self.concat and 2*self.units-self.num_features): sh = self.num_features*(2*self.units-self.num_features)\n",
    "        elif (self.concat and 2*self.units-self.num_features==0):  sh = self.num_features\n",
    "        elif (self.concat==False and 2*self.units-self.num_features): sh = 2*self.units-self.num_features\n",
    "        else: sh = 1        \n",
    "        x = tf.keras.Input(shape=(sh), batch_size=batch_size)\n",
    "        return tf.keras.Model(inputs=x, outputs=self.call(x)) \n",
    "    \n",
    "\n",
    "@tf.keras.utils.register_keras_serializable()\n",
    "class VariableSelection(Model): # L.Layer # Model my_\n",
    "    def __init__(self, num_features, units, dropout_rate, **kwargs):\n",
    "        super().__init__(**kwargs)\n",
    "\n",
    "        # Create a GRN for the concatenation of all the features\n",
    "        self.grn_concat = GatedResidualNetwork(units, dropout_rate, num_features, True)\n",
    "\n",
    "        self.grns = list()\n",
    "        # Create a GRN for each feature independently\n",
    "        for idx in range(num_features):\n",
    "            grn = GatedResidualNetwork(units, dropout_rate, num_features, False)\n",
    "            self.grns.append(grn)\n",
    "            \n",
    "        self.softmax = L.Dense(units=num_features, activation=\"softmax\")\n",
    "        self.num_features = num_features\n",
    "        self.units = units\n",
    "        self.dropout_rate = dropout_rate\n",
    "\n",
    "    def get_config(self):\n",
    "        config = super().get_config()\n",
    "        config['num_features'] = self.num_features\n",
    "        config['units'] = self.units\n",
    "        config['dropout_rate'] = self.dropout_rate\n",
    "        return config\n",
    "    \n",
    "    def call(self, inputs):\n",
    "        v = L.concatenate(inputs)\n",
    "        v = self.grn_concat(v)\n",
    "        v = tf.expand_dims(self.softmax(v), axis=-1)\n",
    "\n",
    "        x = []\n",
    "        for idx, input_ in enumerate(inputs):\n",
    "            x.append(self.grns[idx](input_))\n",
    "        x = tf.stack(x, axis=1)\n",
    "\n",
    "        outputs = tf.squeeze(tf.matmul(v, x, transpose_a=True), axis=1)\n",
    "        return outputs\n",
    "        \n",
    "    def model(self):\n",
    "        sh = [2*self.units-self.num_features if 2*self.units-self.num_features else 1][0]\n",
    "        x = []\n",
    "        for idx in range(self.num_features):\n",
    "            x.append(tf.keras.layers.Input(shape=(sh)))\n",
    "        return tf.keras.Model(inputs=x, outputs=self.call(x))     \n",
    "\n",
    "@tf.keras.utils.register_keras_serializable()\n",
    "class VariableSelectionFlow(Model): # L.Layer # Model my_\n",
    "    def __init__(self, num_features, units, dropout_rate, dense_units=None, **kwargs):\n",
    "        super().__init__(**kwargs)\n",
    "        self.variableselection = VariableSelection(num_features, units, dropout_rate)\n",
    "        self.split = L.Lambda(lambda t: tf.split(t, num_features, axis=-1))\n",
    "        self.dense = dense_units\n",
    "        if dense_units:\n",
    "            self.dense_list = [L.Dense(dense_units, \\\n",
    "                                       activation='linear') \\\n",
    "                               for _ in tf.range(num_features)\n",
    "                              ]\n",
    "        self.num_features = num_features\n",
    "        self.units = units\n",
    "        self.dropout_rate = dropout_rate\n",
    "        self.dense_units = dense_units\n",
    "        \n",
    "    def get_config(self):\n",
    "        config = super().get_config()\n",
    "        config['num_features'] = self.num_features\n",
    "        config['units'] = self.units\n",
    "        config['dropout_rate'] = self.dropout_rate\n",
    "        config['dense_units'] = self.dense_units\n",
    "        return config        \n",
    "    \n",
    "    def call(self, inputs):   \n",
    "        split_input = self.split(inputs)\n",
    "        if self.dense:\n",
    "            l = [self.dense_list[i](split_input[i]) for i in range(len(self.dense_list))]\n",
    "        else:\n",
    "            l = split_input\n",
    "        return self.variableselection(l)           \n",
    "\n",
    "    def model(self):\n",
    "        # input_shape=(not include batch size).\n",
    "        sh = 2*self.units-[self.dense_units if self.dense_units else 0][0]\n",
    "        x = tf.keras.Input(shape=(sh), batch_size=batch_size)\n",
    "        return tf.keras.Model(inputs=x, outputs=self.call(x)) "
   ]
  },
  {
   "cell_type": "code",
   "execution_count": 5,
   "id": "789cd5b0",
   "metadata": {
    "execution": {
     "iopub.execute_input": "2023-10-06T03:44:14.108090Z",
     "iopub.status.busy": "2023-10-06T03:44:14.107813Z",
     "iopub.status.idle": "2023-10-06T03:44:14.119757Z",
     "shell.execute_reply": "2023-10-06T03:44:14.118832Z"
    },
    "papermill": {
     "duration": 0.017355,
     "end_time": "2023-10-06T03:44:14.121756",
     "exception": false,
     "start_time": "2023-10-06T03:44:14.104401",
     "status": "completed"
    },
    "tags": []
   },
   "outputs": [
    {
     "name": "stdout",
     "output_type": "stream",
     "text": [
      "['mod_f8_r1_tr0.1803_val0.1829.h5', 'mod_f0_r0_tr0.1455_val0.1582.h5']\n"
     ]
    }
   ],
   "source": [
    "mfolder = '/kaggle/input/icr-iarc-weights/icr-weights/'\n",
    "models_weights = os.listdir(mfolder)\n",
    "bypass = ['mod_f4_r0_tr0.1738_val0.2523.h5', 'mod_f7_r0_tr0.1936_val0.2573.h5']\n",
    "#bypass = []\n",
    "print(models_weights[:2])"
   ]
  },
  {
   "cell_type": "code",
   "execution_count": 6,
   "id": "e7a24b81",
   "metadata": {
    "execution": {
     "iopub.execute_input": "2023-10-06T03:44:14.128119Z",
     "iopub.status.busy": "2023-10-06T03:44:14.127820Z",
     "iopub.status.idle": "2023-10-06T03:46:53.644488Z",
     "shell.execute_reply": "2023-10-06T03:46:53.643407Z"
    },
    "papermill": {
     "duration": 159.52307,
     "end_time": "2023-10-06T03:46:53.647537",
     "exception": false,
     "start_time": "2023-10-06T03:44:14.124467",
     "status": "completed"
    },
    "tags": []
   },
   "outputs": [
    {
     "name": "stdout",
     "output_type": "stream",
     "text": [
      "1/1 [==============================] - 12s 12s/step\n",
      "1/1 [==============================] - 10s 10s/step\n",
      "1/1 [==============================] - 9s 9s/step\n",
      "1/1 [==============================] - 9s 9s/step\n",
      "1/1 [==============================] - 10s 10s/step\n",
      "1/1 [==============================] - 10s 10s/step\n",
      "1/1 [==============================] - 9s 9s/step\n",
      "1/1 [==============================] - 9s 9s/step\n"
     ]
    }
   ],
   "source": [
    "y_pred = np.zeros_like(test_df.iloc[:,0].values, dtype=np.float32)\n",
    "batch_size = 32\n",
    "\n",
    "units_1 = 32\n",
    "drop_1 = 0.75\n",
    "dense_units = 8\n",
    "\n",
    "units_2 = 16\n",
    "drop_2 = 0.5\n",
    "\n",
    "units_3 = 8\n",
    "drop_3 = 0.25\n",
    "\n",
    "for n, model_weights in enumerate(models_weights):\n",
    "    if model_weights in bypass: continue\n",
    "    inputs_1 = tf.keras.Input(shape=(56,))\n",
    "        \n",
    "    features_1 = VariableSelectionFlow(56, units_1, drop_1, dense_units=dense_units)(inputs_1)\n",
    "    features_2 = VariableSelectionFlow(units_1, units_2, drop_2)(features_1)         \n",
    "    features_3 = VariableSelectionFlow(units_2, units_3, drop_3)(features_2)         \n",
    "\n",
    "    outputs = L.Dense(1, activation=\"sigmoid\")(features_3)\n",
    "\n",
    "    model = Model(inputs=inputs_1, outputs=outputs)      \n",
    "    model.load_weights(mfolder + model_weights)\n",
    "    y_pred += model.predict(X_test)[:,0]\n"
   ]
  },
  {
   "cell_type": "code",
   "execution_count": 7,
   "id": "ef849b50",
   "metadata": {
    "execution": {
     "iopub.execute_input": "2023-10-06T03:46:53.656872Z",
     "iopub.status.busy": "2023-10-06T03:46:53.656182Z",
     "iopub.status.idle": "2023-10-06T03:46:53.668246Z",
     "shell.execute_reply": "2023-10-06T03:46:53.667198Z"
    },
    "papermill": {
     "duration": 0.018931,
     "end_time": "2023-10-06T03:46:53.670668",
     "exception": false,
     "start_time": "2023-10-06T03:46:53.651737",
     "status": "completed"
    },
    "tags": []
   },
   "outputs": [],
   "source": [
    "y_pred /= len(models_weights)\n",
    "p1 = y_pred\n",
    "p0 = 1 - p1\n",
    "# p1.shape => (5,)\n",
    "p = np.stack([p0, p1]).T\n",
    "# p.shape => (5, 2)\n",
    "\n",
    "class_0_est_instances = p[:,0].sum()\n",
    "others_est_instances = p[:,1:].sum()\n",
    "\n",
    "# reweighting the probabilities.\n",
    "# np.array([[ 1/(class_0_est_instances if i==0 else others_est_instances) for i in range(p.shape[1]) ]]).shape => (1, 2)\n",
    "new_p = p * np.array([[ 1/(class_0_est_instances if i==0 else others_est_instances) for i in range(p.shape[1]) ]])\n",
    "# new_p.shape => (5, 2)\n",
    "# np.sum(new_p, axis=1, keepdims=1).shape => (5, 1)\n",
    "new_p = new_p / np.sum(new_p, axis=1, keepdims=1)\n",
    "\n",
    "test_df[['class_0', 'class_1']] = new_p\n",
    "test_df[['class_0', 'class_1']].to_csv('submission.csv')"
   ]
  },
  {
   "cell_type": "code",
   "execution_count": null,
   "id": "db5055f4",
   "metadata": {
    "papermill": {
     "duration": 0.003001,
     "end_time": "2023-10-06T03:46:53.677639",
     "exception": false,
     "start_time": "2023-10-06T03:46:53.674638",
     "status": "completed"
    },
    "tags": []
   },
   "outputs": [],
   "source": []
  },
  {
   "cell_type": "code",
   "execution_count": null,
   "id": "fa749791",
   "metadata": {
    "papermill": {
     "duration": 0.002824,
     "end_time": "2023-10-06T03:46:53.683638",
     "exception": false,
     "start_time": "2023-10-06T03:46:53.680814",
     "status": "completed"
    },
    "tags": []
   },
   "outputs": [],
   "source": []
  }
 ],
 "metadata": {
  "kernelspec": {
   "display_name": "Python 3 (ipykernel)",
   "language": "python",
   "name": "python3"
  },
  "language_info": {
   "codemirror_mode": {
    "name": "ipython",
    "version": 3
   },
   "file_extension": ".py",
   "mimetype": "text/x-python",
   "name": "python",
   "nbconvert_exporter": "python",
   "pygments_lexer": "ipython3",
   "version": "3.8.17"
  },
  "papermill": {
   "default_parameters": {},
   "duration": 176.649583,
   "end_time": "2023-10-06T03:46:57.448294",
   "environment_variables": {},
   "exception": null,
   "input_path": "__notebook__.ipynb",
   "output_path": "__notebook__.ipynb",
   "parameters": {},
   "start_time": "2023-10-06T03:44:00.798711",
   "version": "2.4.0"
  }
 },
 "nbformat": 4,
 "nbformat_minor": 5
}
